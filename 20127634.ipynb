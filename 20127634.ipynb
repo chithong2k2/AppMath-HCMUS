{
 "cells": [
  {
   "cell_type": "markdown",
   "metadata": {},
   "source": [
    "# Đồ án 1 - Color Compression <a class=\"anchor\" id=\"c2\"></a>"
   ]
  },
  {
   "cell_type": "markdown",
   "metadata": {},
   "source": [
    "Họ tên: Dương Chí Thông\n",
    "\n",
    "MSSV: 20127634\n",
    "\n",
    "Lớp: 20CLC08"
   ]
  },
  {
   "cell_type": "markdown",
   "metadata": {},
   "source": [
    "## Cài đặt thuật toán"
   ]
  },
  {
   "cell_type": "markdown",
   "metadata": {},
   "source": [
    "### Import các thư viện cần thiết"
   ]
  },
  {
   "cell_type": "code",
   "execution_count": null,
   "metadata": {},
   "outputs": [],
   "source": [
    "import matplotlib.pyplot as plt\n",
    "import numpy as np\n",
    "from PIL import Image"
   ]
  },
  {
   "cell_type": "markdown",
   "metadata": {},
   "source": [
    "### Khởi tạo centroids"
   ]
  },
  {
   "cell_type": "code",
   "execution_count": null,
   "metadata": {},
   "outputs": [],
   "source": [
    "def init_centroids_kmean(img_1d,k_clusters,init_centroids):\n",
    "    if init_centroids == 'random':\n",
    "        return np.random.randint(0,255, size=(k_clusters, len(img_1d[0])))\n",
    "    elif init_centroids == 'in_pixels':\n",
    "        return img_1d[np.random.choice(img_1d.shape[0], size=k_clusters, replace=False)]\n",
    "    else:\n",
    "        raise ValueError('init_centroids must be either \"random\" or \"in_pixels\"')"
   ]
  },
  {
   "cell_type": "markdown",
   "metadata": {},
   "source": [
    "### Xác định các điểm gần trung tâm"
   ]
  },
  {
   "cell_type": "code",
   "execution_count": null,
   "metadata": {},
   "outputs": [],
   "source": [
    "def get_label(img_1d, centroid):\n",
    "    list_distance=[]\n",
    "    for i in range(0,len(centroid)):\n",
    "        distance = np.linalg.norm(np.subtract(img_1d ,centroid[i]), axis=1) #tính khoảng cách giữa ảnh và từng centroid\n",
    "        list_distance.append(distance) #lưu khoảng cách vào mảng\n",
    "    label = np.argmin(list_distance, axis=0) #lấy index của khoảng cách nhỏ nhất\n",
    "    return label"
   ]
  },
  {
   "cell_type": "markdown",
   "metadata": {},
   "source": [
    "### Cập nhật lại trung tâm"
   ]
  },
  {
   "cell_type": "code",
   "execution_count": null,
   "metadata": {},
   "outputs": [],
   "source": [
    "def get_centroid(img_1d, label, k_clusters):\n",
    "    centroid=np.zeros((k_clusters, len(img_1d[0])))\n",
    "    for i in range (k_clusters):\n",
    "        k=img_1d[label==i]\n",
    "        if(len(k)!=0):\n",
    "            centroid[i]=np.mean(k,axis=0)\n",
    "    return centroid "
   ]
  },
  {
   "cell_type": "markdown",
   "metadata": {},
   "source": [
    "### Thuật toán Kmeans"
   ]
  },
  {
   "cell_type": "code",
   "execution_count": null,
   "metadata": {},
   "outputs": [],
   "source": [
    "def kmeans(img_1d, k_clusters, max_iter, init_centroids='random'):\n",
    "    flag=0\n",
    "    centroid=init_centroids_kmean(img_1d,k_clusters,init_centroids)\n",
    "    for i in range(max_iter):\n",
    "        label = get_label(img_1d, centroid) #lấy label của ảnh\n",
    "        new_centroid = get_centroid(img_1d, label, k_clusters) #cập nhật centroid\n",
    "        if np.array_equal(centroid,new_centroid): # neu khong co su thay đổi về centroid thì dừng vòng lặp\n",
    "            flag=1\n",
    "            break\n",
    "        centroid = new_centroid #cập nhật centroid mới\n",
    "    if(flag==0): # nếu chạy hết vòng lăp thì ta tiến cập nhật lại label\n",
    "        label=get_label(img_1d,centroid)\n",
    "    return label, centroid"
   ]
  },
  {
   "cell_type": "markdown",
   "metadata": {},
   "source": [
    "### Hàm main"
   ]
  },
  {
   "cell_type": "code",
   "execution_count": null,
   "metadata": {},
   "outputs": [],
   "source": [
    "if __name__ == '__main__':\n",
    "    img_file=input(\"Enter the image file name: \")\n",
    "    img = Image.open(img_file)\n",
    "    img_1d = np.array(img)\n",
    "    img_shape=img_1d.shape\n",
    "    img_1d = img_1d.reshape((img_1d.shape[0] * img_1d.shape[1], img_1d.shape[2]))\n",
    "    k_clusters = int(input(\"Enter the number of clusters: \"))\n",
    "    max_iter = int(input(\"Enter the maximum number of iterations: \"))\n",
    "    init_centroids = input(\"Enter the initial centroids: \")\n",
    "    print(\"K-means clustering...\")\n",
    "    label, centroid = kmeans(img_1d,k_clusters,max_iter, \"random\")\n",
    "    label = label.reshape(img.size[0], img.size[1]) #reshape label về ảnh\n",
    "    result = centroid[label].astype(np.uint8) #thay thế điểm ảnh bằng centroid của nó\n",
    "    result = result.reshape(img_shape) #reshape result về ảnh\n",
    "    plt.imshow(result) #hiển thị ảnh\n",
    "    plt.show()\n",
    "    file_name=input(\"Enter the file name want to save [filename.(jpg/png/pdf)]: \")\n",
    "    plt.imsave(file_name,result)"
   ]
  },
  {
   "cell_type": "markdown",
   "metadata": {},
   "source": []
  }
 ],
 "metadata": {
  "kernelspec": {
   "display_name": "Python 3 (ipykernel)",
   "language": "python",
   "name": "python3"
  },
  "language_info": {
   "codemirror_mode": {
    "name": "ipython",
    "version": 3
   },
   "file_extension": ".py",
   "mimetype": "text/x-python",
   "name": "python",
   "nbconvert_exporter": "python",
   "pygments_lexer": "ipython3",
   "version": "3.10.2"
  },
  "vscode": {
   "interpreter": {
    "hash": "c4917dc8c7bf15a72ebab6d9e31241f0adb198e7f73246fcefc6912fbb32d1b7"
   }
  }
 },
 "nbformat": 4,
 "nbformat_minor": 4
}
